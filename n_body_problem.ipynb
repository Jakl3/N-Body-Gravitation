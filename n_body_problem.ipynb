{
 "cells": [
  {
   "cell_type": "markdown",
   "id": "d48fbc7a-ff97-416f-9782-b13027084263",
   "metadata": {},
   "source": [
    "# Simulation of the N-Body Problem\n",
    "## Created by Jack Le - June 20th, 2021\n",
    "### Sources used:\n",
    "* https://en.wikipedia.org/wiki/N-body_problem\n",
    "* https://en.wikipedia.org/wiki/N-body_simulation\n",
    "* https://en.wikipedia.org/wiki/Leapfrog_integration\n",
    "* https://medium.com/swlh/creating-3d-video-visualization-with-matplotlib-python-data-visualization-series-d8f5dfe1c460"
   ]
  },
  {
   "cell_type": "code",
   "execution_count": 1,
   "id": "f6c32005-730b-4eb1-b0d1-414a9acd8060",
   "metadata": {},
   "outputs": [],
   "source": [
    "import numpy as np\n",
    "np.random.seed(0) # seeds the generator so randoms will stay same across each run\n",
    "import matplotlib.pyplot as plt\n",
    "import matplotlib.gridspec as gridspec\n",
    "from tqdm.notebook import tqdm\n",
    "from mpl_toolkits import mplot3d\n",
    "from PIL import Image\n",
    "import os.path\n",
    "from multiprocessing import Process\n",
    "from time import sleep"
   ]
  },
  {
   "cell_type": "markdown",
   "id": "7c41380b-1572-49a5-8c12-c13ab0ed107b",
   "metadata": {},
   "source": [
    "### Force Equations\n",
    "[//]: # \"F_{ij} = G\\frac{m_im_j}{\\left \\| r_j-r_i \\right \\|^2}*\\frac{(r_j-r_i)}{\\left \\| r_j-r_i \\right \\|}=G\\frac{m_im_j(r_j-r_i)}{\\left \\| r_j-r_i \\right \\|^3}\"\n",
    "<img src=\"images/force.png\"> \n",
    "\n",
    "### Acceleration Equation\n",
    "[//]: # \"a_i = G \\sum_{j\\neq i}m_j\\frac{r_j-r_i}{\\left \\| r_j-r_i \\right \\|^3}\"\n",
    "<img src=\"images/accel.png\">\n",
    "\n",
    "### Leapfrog Implementation\n",
    "<img src=\"images/leapfrog.svg\">"
   ]
  },
  {
   "cell_type": "code",
   "execution_count": 2,
   "id": "3b54208e-a2ff-44a8-ba78-cf0cc78fbe2b",
   "metadata": {},
   "outputs": [],
   "source": [
    "class N_body:\n",
    "    \n",
    "    def __init__(self, timestep=0.01, softening=0.1, length=10, N=100, total_mass=20.0, dirname='other'):\n",
    "        \"\"\"\n",
    "        Initializes the class and the N-body simulation\n",
    "        :float G: coefficient of Newton's Gravitational Constant, 6.67 × 10-11 Newtons kg-2 m2\n",
    "        :int N: the number of bodies in the simulation\n",
    "        :float t: the current time in the simulation\n",
    "        :float length: the length (time) of the simulation\n",
    "        :float t_end: the time when simulation ends (t + length)\n",
    "        :float timestep: amount of time passed per step\n",
    "        :float softening: the softening parameter used for the softening trick\n",
    "        :float total_mass: the total mass of all particles in the system\n",
    "        \"\"\"\n",
    "        self.G = 1.0\n",
    "        self.N = N\n",
    "        self.t = 0\n",
    "        self.length = length\n",
    "        self.t_end = self.t + self.length\n",
    "        self.timestep = timestep\n",
    "        self.softening = softening\n",
    "        self.total_mass = total_mass\n",
    "        self.dirname=dirname\n",
    "    \n",
    "    \n",
    "    def simulate(self):\n",
    "        \"\"\"\n",
    "        Main simulation function\n",
    "        :np.array positions: N x 3 matrix storing positions in the x, y, and z dimensions\n",
    "        :np.array masses: N x 1 vector storing the masses of each particle\n",
    "        :np.array velocities: N x 3 matrix storing velocities in the x, y, and z dimensions\n",
    "        :np.array accelerations: N x 3 matrix storing accelerations in the x, y, and z dimensions\n",
    "        :int num_timesteps: the number of timesteps between initial t and t_end\n",
    "        :np.array pos_s: storage array of positions, used to store previous positions for plotting\n",
    "        \"\"\"\n",
    "        positions = np.random.randn(self.N, 3)\n",
    "        masses = self.total_mass * np.ones((self.N, 1))/self.N\n",
    "        velocities = np.random.randn(self.N, 3)\n",
    "        velocities -= np.mean(masses * velocities, axis=0) / np.mean(masses)\n",
    "        accelerations = self.get_accelerations(positions, masses)\n",
    "        kinetic_energies, potential_energies = self.get_energies(positions, velocities, masses)\n",
    "        \n",
    "        num_timesteps = int(np.ceil(self.t_end/self.timestep))\n",
    "        \n",
    "        # saves the previous positions for plotting\n",
    "        self.pos_s = np.zeros((self.N,3,num_timesteps+1))\n",
    "        self.pos_s[:,:,0] = positions\n",
    "        \n",
    "        # save initial energies for plotting\n",
    "        self.KE_s = np.zeros(num_timesteps+1)\n",
    "        self.KE_s[0] = kinetic_energies\n",
    "        self.PE_s = np.zeros(num_timesteps+1)\n",
    "        self.PE_s[0] = potential_energies\n",
    "        self.t_all = np.arange(num_timesteps+1)\n",
    "        \n",
    "        # uses leapfrog kick-drift-kick to simulate time\n",
    "        # 1. it first has a half step kick in velocity, vf = vi + t/2 * a\n",
    "        # 2. then it has a drift, rf = ri + t * vf\n",
    "        # 3. it then updates the acceleartions\n",
    "        # 4. then it has another kick, vf = vi + t/2 * a\n",
    "        angle = 70\n",
    "        for i in tqdm(range(num_timesteps)):\n",
    "            # first kick\n",
    "            velocities += (self.timestep/2.0) * accelerations\n",
    "            \n",
    "            # drift\n",
    "            positions += velocities * self.timestep\n",
    "            \n",
    "            # update accelerations\n",
    "            accelerations = self.get_accelerations(positions, masses)\n",
    "            \n",
    "            # second kick\n",
    "            velocities += (self.timestep/2.0) * accelerations\n",
    "            \n",
    "            # move to next timestep\n",
    "            self.t += self.timestep\n",
    "            \n",
    "            # update energies of the system\n",
    "            kinetic_energies, potential_energies = self.get_energies(positions, velocities, masses)\n",
    "            \n",
    "            # save positions for plotting trail\n",
    "            self.pos_s[:,:,i+1] = positions\n",
    "            self.KE_s[i+1] = kinetic_energies\n",
    "            self.PE_s[i+1] = potential_energies\n",
    "\n",
    "            # graphs the simulation\n",
    "            fig = plt.figure(figsize=(16,10), dpi=80, facecolor='white')\n",
    "            gs = gridspec.GridSpec(nrows=1, ncols=3)\n",
    "            ax1 = fig.add_subplot(gs[0, 0:2], projection=\"3d\")\n",
    "            ax1.set(xlim=(-2, 2), ylim=(-2, 2), zlim=(-2,2))\n",
    "            #ax1._axis3don = False\n",
    "            ax2 = fig.add_subplot(gs[0, 2])\n",
    "\n",
    "            angle += 0.25\n",
    "            angle %= 360\n",
    "\n",
    "            x_trail = self.pos_s[:, 0, max(0, i-10):i+1]\n",
    "            y_trail = self.pos_s[:, 1, max(0, i-10):i+1]\n",
    "            z_trail = self.pos_s[:, 2, max(0, i-10):i+1]\n",
    "            ax1.set_title(f'N-Body Simulation with {self.N} bodies: time {i+1}/{num_timesteps}')\n",
    "            ax1.scatter3D(x_trail, y_trail, z_trail, s=10, color=[.7,.7,1])\n",
    "            ax1.scatter3D(positions[:,0], positions[:,1], positions[:,2], s=10, color='blue')\n",
    "            ax1.view_init(30,angle)\n",
    "            \n",
    "            ax2.scatter(y=self.t_all[:i+1], x=self.KE_s[:i+1], color='red', s=1, label='KE')\n",
    "            ax2.scatter(y=self.t_all[:i+1], x=self.PE_s[:i+1], color='blue', s=1, label='PE')\n",
    "            ax2.scatter(y=self.t_all[:i+1], x=self.KE_s[:i+1]+self.PE_s[:i+1], color='black', s=1, label='TE')\n",
    "            ax2.legend(loc=\"upper right\")\n",
    "            ax2.set(ylim=(0, num_timesteps), xlim=(-300, 300))\n",
    "            ax2.xaxis.tick_top()\n",
    "            ax2.invert_yaxis()\n",
    "            ax2.set_xlabel(\"Energy\")\n",
    "            ax2.set_ylabel(\"Timestep\")\n",
    "            ax2.xaxis.set_label_position('top')\n",
    "            ax2.yaxis.set_label_position('right') \n",
    "\n",
    "            #Save figure\n",
    "            plt.savefig(f'frame_images/{self.dirname}/3d_nbody_{i}.png',dpi=100)    \n",
    "            fig.clf()\n",
    "            plt.close(fig)\n",
    "            \n",
    "            #plt.show()\n",
    "            \n",
    "            \n",
    "            \n",
    "    def get_accelerations(self, positions, masses):\n",
    "        \"\"\"\n",
    "        Calculates the accelerations of each particle given its mass and position, based on Newton's Laws of Gravitation\n",
    "        :param positions: N x 3 matrix storing positions in the x, y, and z dimensions\n",
    "        :param masses: N x 1 vector storing the masses of each particle\n",
    "        :return accelerations: N x 3 matrix storing accelerations in the x, y, and z dimensions\n",
    "        \"\"\"\n",
    "        \n",
    "        accelerations = None # will store accelerations in each dimension\n",
    "        \n",
    "        pos_x = positions[:, 0:1] # N x 1 vector of x positions\n",
    "        pos_y = positions[:, 1:2] # N x 1 vector of y positions\n",
    "        pos_z = positions[:, 2:3] # N x 1 vector of z positions\n",
    "        \n",
    "        sep_x = pos_x.T - pos_x # stores the separation r_j - r_i in x dimension\n",
    "        sep_y = pos_y.T - pos_y # stores the separation r_j - r_i in y dimension\n",
    "        sep_z = pos_z.T - pos_z # stores the separation r_j - r_i in z dimension\n",
    "        \n",
    "        # stores the denominator in acceleration equation\n",
    "        denom = sep_x**2 + sep_y**2 + sep_z**2 + self.softening**2\n",
    "        denom[denom>0] **= -3/2\n",
    "        \n",
    "        a_x = self.G * (sep_x * denom) @ masses\n",
    "        a_y = self.G * (sep_y * denom) @ masses\n",
    "        a_z = self.G * (sep_z * denom) @ masses\n",
    "        \n",
    "        accelerations = np.hstack((a_x, a_y, a_z))\n",
    "        \n",
    "        return accelerations\n",
    "    \n",
    "    \n",
    "    def get_energies(self, positions, velocities, masses):\n",
    "        \"\"\"\n",
    "        Calculates the total kinetic and potential energies of the system\n",
    "        :param positions: N x 3 matrix storing positions in the x, y, and z dimensions\n",
    "        :param velocities: N x 3 matrix storing velocities in the x, y, and z dimensions\n",
    "        :param masses: N x 1 vector storing the masses of each particle\n",
    "        \"\"\"\n",
    "        kinetic_energies = (1.0/2.0) * np.sum(np.sum(masses * velocities**2)) # total kinetic energy of the system\n",
    "        \n",
    "        pos_x = positions[:, 0:1] # N x 1 vector of x positions\n",
    "        pos_y = positions[:, 1:2] # N x 1 vector of y positions\n",
    "        pos_z = positions[:, 2:3] # N x 1 vector of z positions\n",
    "    \n",
    "        sep_x = pos_x.T - pos_x # stores the separation r_j - r_i in x dimension\n",
    "        sep_y = pos_y.T - pos_y # stores the separation r_j - r_i in y dimension\n",
    "        sep_z = pos_z.T - pos_z # stores the separation r_j - r_i in z dimension\n",
    "        \n",
    "        # stores the denominator in acceleration equation\n",
    "        denom = np.sqrt(sep_x**2 + sep_y**2 + sep_z**2)\n",
    "        denom[denom>0] = 1/denom[denom>0]\n",
    "        \n",
    "        potential_energies = self.G * np.sum(np.sum(np.triu(-(masses*masses.T)*denom,1))) # total potential energy of the system\n",
    "        \n",
    "        return kinetic_energies, potential_energies"
   ]
  },
  {
   "cell_type": "code",
   "execution_count": 3,
   "id": "7227441d-612a-4ae1-9749-1ccee5924ab0",
   "metadata": {},
   "outputs": [],
   "source": [
    "def save(N, length, dirname):\n",
    "    # Gathers the images\n",
    "    png_count = 5000\n",
    "    files = []\n",
    "    for i in range(png_count):\n",
    "        seq = str(i)\n",
    "        fname = f'frame_images/{dirname}/3d_nbody_'+ seq +'.png'\n",
    "        if os.path.isfile(fname):\n",
    "            files.append(fname)\n",
    "            \n",
    "    # Create the frames\n",
    "    frames = []\n",
    "    for i in files:\n",
    "        new_frame = Image.open(i)\n",
    "        frames.append(new_frame)\n",
    "\n",
    "    # Save into a GIF file that loops forever   \n",
    "    frames[0].save(f'simulations/{N}_body_simulation_length_{length}.gif', format='GIF',\n",
    "                   append_images=frames[1:],\n",
    "                   save_all=True,\n",
    "                   duration=30, loop=0)\n",
    "    \n",
    "    for frame in frames:\n",
    "        frame.close()"
   ]
  },
  {
   "cell_type": "code",
   "execution_count": 4,
   "id": "1bab9900-1bef-4607-9460-7135ff198648",
   "metadata": {},
   "outputs": [],
   "source": [
    "def create_sim(N=100, length=10):\n",
    "    timestep=0.01\n",
    "    softening=0.1\n",
    "    total_mass=20.0\n",
    "    dir_name = f'sim_{N}_body_{length}_len'\n",
    "    dir2_name = './frame_images/' + dir_name\n",
    "    !rm -r {dir2_name}\n",
    "    !mkdir {dir2_name}\n",
    "    print('Creating simulation with parameters:\\n' +\n",
    "          f'Timestep length = {timestep}\\n' +\n",
    "          f'Softening parameter = {softening}\\n' +\n",
    "          f'Simulation length = {length}\\n' +\n",
    "          f'Num of bodies = {N}\\n' +\n",
    "          f'Total mass = {total_mass}')\n",
    "    simulation = N_body(timestep=timestep, softening=softening, length=length, N=N, total_mass=total_mass, dirname=dir_name)\n",
    "    simulation.simulate()\n",
    "    save(N=N, length=length, dirname=dir_name)"
   ]
  },
  {
   "cell_type": "code",
   "execution_count": 5,
   "id": "63213513-7e8c-4a93-a34b-1ad355217da7",
   "metadata": {},
   "outputs": [],
   "source": [
    "# sets the file limit so that it can do all this multiprocessing\n",
    "import resource\n",
    "soft, hard = resource.getrlimit(resource.RLIMIT_NOFILE)\n",
    "resource.setrlimit(resource.RLIMIT_NOFILE, (hard, hard))"
   ]
  },
  {
   "cell_type": "code",
   "execution_count": 6,
   "id": "87cf0813-29ad-4ba3-989b-d62eac940d1b",
   "metadata": {},
   "outputs": [
    {
     "name": "stdout",
     "output_type": "stream",
     "text": [
      "Creating simulation with parameters:\n",
      "Timestep length = 0.01\n",
      "Softening parameter = 0.1\n",
      "Simulation length = 20\n",
      "Num of bodies = 2\n",
      "Total mass = 20.0\n"
     ]
    },
    {
     "data": {
      "application/vnd.jupyter.widget-view+json": {
       "model_id": "979cd6bd46974d4fb6c29b3c13909531",
       "version_major": 2,
       "version_minor": 0
      },
      "text/plain": [
       "  0%|          | 0/2000 [00:00<?, ?it/s]"
      ]
     },
     "metadata": {},
     "output_type": "display_data"
    },
    {
     "name": "stdout",
     "output_type": "stream",
     "text": [
      "Creating simulation with parameters:\n",
      "Timestep length = 0.01\n",
      "Softening parameter = 0.1\n",
      "Simulation length = 20\n",
      "Num of bodies = 5\n",
      "Total mass = 20.0\n"
     ]
    },
    {
     "data": {
      "application/vnd.jupyter.widget-view+json": {
       "model_id": "2ff0853c746a4d8398c064c846922d61",
       "version_major": 2,
       "version_minor": 0
      },
      "text/plain": [
       "  0%|          | 0/2000 [00:00<?, ?it/s]"
      ]
     },
     "metadata": {},
     "output_type": "display_data"
    },
    {
     "name": "stdout",
     "output_type": "stream",
     "text": [
      "Done!\n"
     ]
    }
   ],
   "source": [
    "# create_sim(N=2, length=20)\n",
    "p1 = Process(target=create_sim, args=[2, 20])\n",
    "# create_sim(N=5, length=20)\n",
    "p2 = Process(target=create_sim, args=[5, 20])\n",
    "\n",
    "# starting processes\n",
    "p1.start()\n",
    "sleep(1)\n",
    "p2.start()\n",
    "sleep(1)\n",
    "\n",
    "# wait until processes are finished\n",
    "p1.join()\n",
    "p2.join()\n",
    "\n",
    "# all processes finished\n",
    "print(\"Done!\")"
   ]
  },
  {
   "cell_type": "code",
   "execution_count": 7,
   "id": "f7723cff-23f4-4902-9c29-ccd76627ae65",
   "metadata": {},
   "outputs": [
    {
     "name": "stdout",
     "output_type": "stream",
     "text": [
      "Creating simulation with parameters:\n",
      "Timestep length = 0.01\n",
      "Softening parameter = 0.1\n",
      "Simulation length = 20\n",
      "Num of bodies = 10\n",
      "Total mass = 20.0\n"
     ]
    },
    {
     "data": {
      "application/vnd.jupyter.widget-view+json": {
       "model_id": "ff51303f206e454fb1d8e74b1490f71a",
       "version_major": 2,
       "version_minor": 0
      },
      "text/plain": [
       "  0%|          | 0/2000 [00:00<?, ?it/s]"
      ]
     },
     "metadata": {},
     "output_type": "display_data"
    },
    {
     "name": "stdout",
     "output_type": "stream",
     "text": [
      "rm: cannot remove './frame_images/sim_30_body_20_len': No such file or directory\n",
      "Creating simulation with parameters:\n",
      "Timestep length = 0.01\n",
      "Softening parameter = 0.1\n",
      "Simulation length = 20\n",
      "Num of bodies = 30\n",
      "Total mass = 20.0\n"
     ]
    },
    {
     "data": {
      "application/vnd.jupyter.widget-view+json": {
       "model_id": "e768aa5e19be436a9f1f69e32b5c2ea9",
       "version_major": 2,
       "version_minor": 0
      },
      "text/plain": [
       "  0%|          | 0/2000 [00:00<?, ?it/s]"
      ]
     },
     "metadata": {},
     "output_type": "display_data"
    },
    {
     "name": "stdout",
     "output_type": "stream",
     "text": [
      "Done!\n"
     ]
    }
   ],
   "source": [
    "# create_sim(N=10, length=20)\n",
    "p3 = Process(target=create_sim, args=[10, 20])\n",
    "# create_sim(N=30, length=20)\n",
    "p4 = Process(target=create_sim, args=[30, 20])\n",
    "\n",
    "# starting processes\n",
    "p3.start()\n",
    "sleep(1)\n",
    "p4.start()\n",
    "sleep(1)\n",
    "\n",
    "# wait until processes are finished\n",
    "p3.join()\n",
    "p4.join()\n",
    "\n",
    "# all processes finished\n",
    "print(\"Done!\")"
   ]
  },
  {
   "cell_type": "code",
   "execution_count": 8,
   "id": "f5fccefe-f9e7-44bb-9250-73e28c47de62",
   "metadata": {},
   "outputs": [
    {
     "name": "stdout",
     "output_type": "stream",
     "text": [
      "rm: cannot remove './frame_images/sim_50_body_20_len': No such file or directory\n",
      "Creating simulation with parameters:\n",
      "Timestep length = 0.01\n",
      "Softening parameter = 0.1\n",
      "Simulation length = 20\n",
      "Num of bodies = 50\n",
      "Total mass = 20.0\n"
     ]
    },
    {
     "data": {
      "application/vnd.jupyter.widget-view+json": {
       "model_id": "4321458caa9b4eb0bc08ba574af7f63a",
       "version_major": 2,
       "version_minor": 0
      },
      "text/plain": [
       "  0%|          | 0/2000 [00:00<?, ?it/s]"
      ]
     },
     "metadata": {},
     "output_type": "display_data"
    },
    {
     "name": "stdout",
     "output_type": "stream",
     "text": [
      "rm: cannot remove './frame_images/sim_100_body_20_len': No such file or directory\n",
      "Creating simulation with parameters:\n",
      "Timestep length = 0.01\n",
      "Softening parameter = 0.1\n",
      "Simulation length = 20\n",
      "Num of bodies = 100\n",
      "Total mass = 20.0\n"
     ]
    },
    {
     "data": {
      "application/vnd.jupyter.widget-view+json": {
       "model_id": "60916ef6e9964fc1acf8e26124899257",
       "version_major": 2,
       "version_minor": 0
      },
      "text/plain": [
       "  0%|          | 0/2000 [00:00<?, ?it/s]"
      ]
     },
     "metadata": {},
     "output_type": "display_data"
    },
    {
     "name": "stdout",
     "output_type": "stream",
     "text": [
      "Done!\n"
     ]
    }
   ],
   "source": [
    "# create_sim(N=50, length=20)\n",
    "p5 = Process(target=create_sim, args=[50, 20])\n",
    "# create_sim(N=100, length=20)\n",
    "p6 = Process(target=create_sim, args=[100, 20])\n",
    "\n",
    "# starting processes\n",
    "p5.start()\n",
    "sleep(1)\n",
    "p6.start()\n",
    "sleep(1)\n",
    "\n",
    "# wait until processes are finished\n",
    "p5.join()\n",
    "p6.join()\n",
    "\n",
    "# all processes finished\n",
    "print(\"Done!\")"
   ]
  }
 ],
 "metadata": {
  "kernelspec": {
   "display_name": "Python 3",
   "language": "python",
   "name": "python3"
  },
  "language_info": {
   "codemirror_mode": {
    "name": "ipython",
    "version": 3
   },
   "file_extension": ".py",
   "mimetype": "text/x-python",
   "name": "python",
   "nbconvert_exporter": "python",
   "pygments_lexer": "ipython3",
   "version": "3.8.8"
  }
 },
 "nbformat": 4,
 "nbformat_minor": 5
}
